{
 "cells": [
  {
   "cell_type": "markdown",
   "metadata": {},
   "source": [
    "# Lecture : Introduction to Graph Science\n",
    "\n",
    "## Lab 01 : Generate artificial LFR social networks -- Exercise\n",
    "\n",
    "### Xavier Bresson, Nian Liu\n"
   ]
  },
  {
   "cell_type": "code",
   "execution_count": null,
   "metadata": {},
   "outputs": [],
   "source": [
    "# For Google Colaboratory\n",
    "import sys, os\n",
    "if 'google.colab' in sys.modules:\n",
    "    # mount google drive\n",
    "    from google.colab import drive\n",
    "    drive.mount('/content/gdrive')\n",
    "    path_to_file = '/content/gdrive/My Drive/CS5284_2025_codes/codes/02_Graph_Science'\n",
    "    print(path_to_file)\n",
    "    # change current path to the folder containing \"path_to_file\"\n",
    "    os.chdir(path_to_file)\n",
    "    !pwd\n",
    "    "
   ]
  },
  {
   "cell_type": "code",
   "execution_count": 1,
   "metadata": {},
   "outputs": [],
   "source": [
    "# Load libraries\n",
    "import numpy as np\n",
    "%matplotlib inline\n",
    "#%matplotlib notebook \n",
    "import matplotlib.pyplot as plt\n",
    "import subprocess # print output of LFR code\n",
    "import scipy.sparse # sparse matrix\n",
    "import scipy.sparse.linalg\n",
    "import pylab # 3D visualization\n",
    "from mpl_toolkits.mplot3d import Axes3D\n",
    "from matplotlib import pyplot\n",
    "from lib import *\n",
    "import warnings; warnings.filterwarnings(\"ignore\")\n",
    "import platform\n"
   ]
  },
  {
   "cell_type": "markdown",
   "metadata": {},
   "source": [
    "### Question 1 : Define a LFR graph by selecting the hyper-parameters\n",
    "https://github.com/eXascaleInfolab/LFR-Benchmark_UndirWeightOvp\n",
    "\n",
    "* N : Number of nodes\n",
    "* k : Number of communities\n",
    "* maxc : Maximum size of community\n",
    "* minc : Minimum size of community\n",
    "* mu : Mixing parameter between communities (the lower the less mix the communities)\n",
    "  "
   ]
  },
  {
   "cell_type": "code",
   "execution_count": 6,
   "metadata": {},
   "outputs": [
    {
     "name": "stdout",
     "output_type": "stream",
     "text": [
      "N, k, minc, maxc, mu : 100 20 5 20 0.5\n"
     ]
    }
   ],
   "source": [
    "# LFR parameters\n",
    "N = 100 # YOUR CODE HERE \n",
    "k = maxk = 20 # YOUR CODE HERE \n",
    "\n",
    "# different community sizes\n",
    "minc = 5 # YOUR CODE HERE \n",
    "maxc = 20 # YOUR CODE HERE \n",
    "\n",
    "# mixing parameter\n",
    "mu = 0.5 # YOUR CODE HERE \n",
    "\n",
    "print('N, k, minc, maxc, mu :', N, k, minc, maxc, mu)\n"
   ]
  },
  {
   "cell_type": "code",
   "execution_count": 7,
   "metadata": {},
   "outputs": [
    {
     "name": "stdout",
     "output_type": "stream",
     "text": [
      "os is : Darwin\n",
      "g++ -O3 -funroll-loops -o benchmark ./Sources/benchm.cpp\n",
      "In file included from ./Sources/benchm.cpp:34:\n",
      "In file included from ./Sources/./standard_include.cpp:22:\n",
      "\u001b[1m./Sources/./print.cpp:12:1: \u001b[0m\u001b[0;1;35mwarning: \u001b[0m\u001b[1mnon-void function does not return a value [-Wreturn-type]\u001b[0m\n",
      "   12 | }\u001b[0m\n",
      "      | \u001b[0;1;32m^\n",
      "\u001b[0m\u001b[1m./Sources/./print.cpp:21:1: \u001b[0m\u001b[0;1;35mwarning: \u001b[0m\u001b[1mnon-void function does not return a value [-Wreturn-type]\u001b[0m\n",
      "   21 | }\u001b[0m\n",
      "      | \u001b[0;1;32m^\n",
      "\u001b[0mIn file included from ./Sources/benchm.cpp:34:\n",
      "In file included from ./Sources/./standard_include.cpp:24:\n",
      "\u001b[1m./Sources/./combinatorics.cpp:158:3: \u001b[0m\u001b[0;1;35mwarning: \u001b[0m\u001b[1madd explicit braces to avoid dangling else [-Wdangling-else]\u001b[0m\n",
      "  158 |                 \u001b[0;34melse\u001b[0m\n",
      "      | \u001b[0;1;32m                ^\n",
      "\u001b[0m\u001b[1m./Sources/./combinatorics.cpp:164:3: \u001b[0m\u001b[0;1;35mwarning: \u001b[0m\u001b[1madd explicit braces to avoid dangling else [-Wdangling-else]\u001b[0m\n",
      "  164 |                 \u001b[0;34melse\u001b[0m\n",
      "      | \u001b[0;1;32m                ^\n",
      "\u001b[0mIn file included from ./Sources/benchm.cpp:34:\n",
      "In file included from ./Sources/./standard_include.cpp:25:\n",
      "\u001b[1m./Sources/./histograms.cpp:643:1: \u001b[0m\u001b[0;1;35mwarning: \u001b[0m\u001b[1mnon-void function does not return a value [-Wreturn-type]\u001b[0m\n",
      "  643 | }\u001b[0m\n",
      "      | \u001b[0;1;32m^\n",
      "\u001b[0m\u001b[1m./Sources/./histograms.cpp:672:1: \u001b[0m\u001b[0;1;35mwarning: \u001b[0m\u001b[1mnon-void function does not return a value [-Wreturn-type]\u001b[0m\n",
      "  672 | }\u001b[0m\n",
      "      | \u001b[0;1;32m^\n",
      "\u001b[0m\u001b[1m./Sources/benchm.cpp:1801:3: \u001b[0m\u001b[0;1;35mwarning: \u001b[0m\u001b[1m'sprintf' is deprecated: This function is provided for compatibility reasons only.  Due to security concerns inherent in the design of sprintf(3), it is highly recommended that you use snprintf(3) instead. [-Wdeprecated-declarations]\u001b[0m\n",
      " 1801 |                 sprintf(rmb, \u001b[0;32m\"rm %s\"\u001b[0m, b);\u001b[0m\n",
      "      | \u001b[0;1;32m                ^\n",
      "\u001b[0m\u001b[1m/Library/Developer/CommandLineTools/SDKs/MacOSX.sdk/usr/include/_stdio.h:278:1: \u001b[0m\u001b[0;1;36mnote: \u001b[0m'sprintf' has been explicitly marked deprecated here\u001b[0m\n",
      "  278 | __deprecated_msg(\u001b[0;32m\"This function is provided for compatibility reasons only.  Due to security concerns inherent in the design of sprintf(3), it is highly recommended that you use snprintf(3) instead.\"\u001b[0m)\u001b[0m\n",
      "      | \u001b[0;1;32m^\n",
      "\u001b[0m\u001b[1m/Library/Developer/CommandLineTools/SDKs/MacOSX.sdk/usr/include/sys/cdefs.h:218:48: \u001b[0m\u001b[0;1;36mnote: \u001b[0mexpanded from macro '__deprecated_msg'\u001b[0m\n",
      "  218 |         #define __deprecated_msg(_msg) \u001b[0;34m__attribute__\u001b[0m((__deprecated__(_msg)))\u001b[0m\n",
      "      | \u001b[0;1;32m                                                      ^\n",
      "\u001b[0m7 warnings generated.\n",
      "./LFR/benchmark -N 100 -k 20 -maxk 20 -mu 0.5 -minc 5 -maxc 20\n",
      "setting... -N 100\n",
      "setting... -k 20\n",
      "setting... -maxk 20\n",
      "setting... -mu 0.5\n",
      "setting... -minc 5\n",
      "setting... -maxc 20\n",
      "\n",
      "**************************************************************\n",
      "number of nodes:\t100\n",
      "average degree:\t20\n",
      "maximum degree:\t20\n",
      "exponent for the degree distribution:\t2\n",
      "exponent for the community size distribution:\t1\n",
      "mixing parameter:\t0.5\n",
      "number of overlapping nodes:\t0\n",
      "number of memberships of the overlapping nodes:\t0\n",
      "community size range set equal to [5 , 20]\n",
      "**************************************************************\n",
      "\n",
      "it took too long to decide the memberships; I will try to change the community sizes\n",
      "new community sizes\n",
      "19 11 11 7 7 9 8 9 19 \n",
      "\n",
      "it took too long to decide the memberships; I will try to change the community sizes\n",
      "new community sizes\n",
      "11 11 7 15 9 19 9 19 \n",
      "\n",
      "it took too long to decide the memberships; I will try to change the community sizes\n",
      "new community sizes\n",
      "11 16 15 9 19 11 19 \n",
      "\n",
      "it took too long to decide the memberships; I will try to change the community sizes\n",
      "new community sizes\n",
      "16 15 20 19 11 19 \n",
      "\n",
      "building communities... \n",
      "connecting communities... \n",
      "recording network...\n",
      "\n",
      "\n",
      "---------------------------------------------------------------------------\n",
      "network of 100 vertices and 1000 edges;\t average degree = 20\n",
      "\n",
      "average mixing parameter: 0.5 +/- 0\n",
      "p_in: 0.66973\tp_out: 0.120161\n",
      "\n",
      "\n"
     ]
    }
   ],
   "source": [
    "print('os is :', platform.system())\n",
    "if platform.system()!='Windows': # os is not Windows\n",
    "    # Compile LFR code\n",
    "    !{'cd LFR; make; cd ..'}\n",
    "    # Run LFR code\n",
    "    cmd = './LFR/benchmark -N ' + str(N) + ' -k ' + str(k) + ' -maxk ' + str(maxk) + \\\n",
    "    ' -mu ' + str(mu) + ' -minc ' + str(minc) + ' -maxc ' + str(maxc)\n",
    "    print(cmd)\n",
    "    !{cmd}\n",
    "    # Get path to generated dataset\n",
    "    path_dataset = './'\n",
    "else: # os is Windows\n",
    "    print('LFR cannot be compiled under Windows -- Using saved dataset instead')\n",
    "    path_dataset = 'datasets/'\n"
   ]
  },
  {
   "cell_type": "code",
   "execution_count": 12,
   "metadata": {},
   "outputs": [
    {
     "name": "stdout",
     "output_type": "stream",
     "text": [
      "nb of nodes= 100\n",
      "[[ 0.  6.]\n",
      " [ 0.  7.]\n",
      " [ 0.  8.]\n",
      " ...\n",
      " [99. 78.]\n",
      " [99. 80.]\n",
      " [99. 94.]]\n",
      "nb of edges= 2000\n"
     ]
    }
   ],
   "source": [
    "# Read LFR data:\n",
    "#     'community.dat' contains the ground truth of communities from 1 to K\n",
    "#     'network.dat' contains the edges of the LFR network\n",
    "\n",
    "community = np.loadtxt(path_dataset + 'community.dat')\n",
    "# print(community)\n",
    "community = community[:,1]\n",
    "print('nb of nodes=',community.shape[0])\n",
    "\n",
    "network = np.loadtxt(path_dataset + 'network.dat') \n",
    "# print(network)\n",
    "network -= 1 # index starts at 0 with python\n",
    "print(network)\n",
    "print('nb of edges=',network.shape[0])\n"
   ]
  },
  {
   "cell_type": "code",
   "execution_count": 9,
   "metadata": {},
   "outputs": [
    {
     "data": {
      "text/plain": [
       "array([2., 6., 3., 4., 1., 1., 2., 1., 1., 1., 4., 2., 5., 5., 4., 5., 2.,\n",
       "       4., 6., 6., 3., 6., 3., 2., 4., 1., 1., 6., 6., 4., 4., 1., 5., 5.,\n",
       "       3., 4., 6., 4., 3., 3., 6., 4., 5., 6., 4., 6., 2., 2., 3., 4., 3.,\n",
       "       4., 6., 1., 3., 3., 6., 4., 2., 4., 2., 3., 3., 1., 2., 4., 3., 5.,\n",
       "       1., 5., 3., 6., 5., 2., 1., 6., 2., 3., 3., 3., 3., 5., 6., 2., 5.,\n",
       "       6., 6., 4., 3., 1., 2., 4., 2., 4., 1., 1., 6., 1., 6., 3.])"
      ]
     },
     "execution_count": 9,
     "metadata": {},
     "output_type": "execute_result"
    }
   ],
   "source": [
    "community"
   ]
  },
  {
   "cell_type": "markdown",
   "metadata": {},
   "source": [
    "### Question 2 : Construct a sparse graph with the scipy library\n",
    "https://docs.scipy.org/doc/scipy/reference/sparse.html\n",
    "\n",
    "Compute a sparse matrix W which represents the adjacency matrix of a LFR network.\n",
    "\n",
    "For example, `W = scipy.sparse.csr_matrix((data, (row_ind, col_ind)), shape)` where\n",
    "https://docs.scipy.org/doc/scipy/reference/generated/scipy.sparse.csr_matrix.html\n",
    "\n",
    "* row_ind : Vector representing the node index of the starting edge i, i.e. the row index of W.\n",
    "* col_ind : Vector representing the node index of the ending edge j, i.e. the column index of W.\n",
    "* data : The value of edge ij.\n",
    "\n",
    "At last, print the shape and type of the spare matrix. \n"
   ]
  },
  {
   "cell_type": "code",
   "execution_count": null,
   "metadata": {},
   "outputs": [
    {
     "name": "stdout",
     "output_type": "stream",
     "text": [
      "(100, 100) float64\n"
     ]
    }
   ],
   "source": [
    "# Create LFR adjacency matrix W\n",
    "nv = community.shape[0] # nb of vertices\n",
    "ne = network.shape[0]\n",
    "#print(nv,ne)\n",
    "import scipy\n",
    "\n",
    "# row = np.arange(nv)# YOUR CODE HERE \n",
    "# col = np.arange(nv)# YOUR CODE HERE \n",
    "# data = network # YOUR CODE HERE \n",
    "\n",
    "# solution\n",
    "row = network[:,0]\n",
    "col = network[:,1]\n",
    "data = np.ones([ne])\n",
    "\n",
    "W = scipy.sparse.csr_matrix((data, (row, col)), shape=(nv,nv))# YOUR CODE HERE \n",
    "print(W.shape, W.dtype)# YOUR CODE HERE \n",
    "\n",
    "W.toarray() # for sparse matrix\n"
   ]
  },
  {
   "cell_type": "markdown",
   "metadata": {},
   "source": [
    "### Question 3 : Plot the computed sparse adjacency matrix W.\n",
    "\n",
    "Function is `spy()` from matplotlib:\n",
    "\n",
    "https://matplotlib.org/stable/api/_as_gen/matplotlib.pyplot.spy.html\n",
    "\n",
    "Does it reveal any interesting structure?\n"
   ]
  },
  {
   "cell_type": "code",
   "execution_count": 15,
   "metadata": {},
   "outputs": [
    {
     "data": {
      "image/png": "[encoded data removed]",
      "text/plain": [
       "<Figure size 640x480 with 1 Axes>"
      ]
     },
     "metadata": {},
     "output_type": "display_data"
    }
   ],
   "source": [
    "# Plot adjacency matrix\n",
    "plt.figure(1)\n",
    "# YOUR CODE HERE \n",
    "plt.spy(W,precision=0.01, markersize=1)\n",
    "plt.show()\n"
   ]
  },
  {
   "cell_type": "code",
   "execution_count": null,
   "metadata": {},
   "outputs": [],
   "source": [
    "######################################\n",
    "# Function that reindexes W according to communities/classes\n",
    "######################################\n",
    "\n",
    "######################################\n",
    "# Usage: \n",
    "#   [reindexed_W,reindexed_C] = reindex_W_with_C(W,C)\n",
    "#\n",
    "# Notations:\n",
    "#   n = nb_data\n",
    "#   nc = nb_communities\n",
    "#\n",
    "# Input variables:\n",
    "#   W = Adjacency matrix. Size = n x n.\n",
    "#   C = Classes used for reindexing W. Size = n x 1. Values in [0,1,...,nc-1].\n",
    "#\n",
    "# Output variables:\n",
    "#   reindexed_W = reindexed adjacency matrix. Size = n x n.\n",
    "#   reindexed_C = reindexed classes C. Size = n x 1. Values in [0,1,...,nc-1].\n",
    "######################################\n",
    "\n",
    "def reindex_W_with_classes(W,C):\n",
    "    # C = community\n",
    "    n = C.shape[0] # nb of vertices\n",
    "    nc = len(np.unique(C)) # nb of communities\n",
    "    reindexing_mapping = np.zeros([n]) # mapping for reindexing W\n",
    "    reindexed_C = np.zeros([n]) # reindexed C\n",
    "    tot = 0\n",
    "    for k in range(nc):\n",
    "        cluster = (np.where(C==k))[0]\n",
    "        length_cluster = len(cluster)\n",
    "        x = np.array(range(tot,tot+length_cluster))\n",
    "        reindexing_mapping[cluster] = x\n",
    "        reindexed_C[x] = k\n",
    "        tot += length_cluster\n",
    "        \n",
    "    idx_row,idx_col,val = scipy.sparse.find(W)\n",
    "    idx_row = reindexing_mapping[idx_row]\n",
    "    idx_col = reindexing_mapping[idx_col]\n",
    "    reindexed_W = scipy.sparse.csr_matrix((val, (idx_row, idx_col)), shape=(n, n))\n",
    "\n",
    "    return reindexed_W,reindexed_C\n",
    "    "
   ]
  },
  {
   "cell_type": "code",
   "execution_count": 17,
   "metadata": {},
   "outputs": [],
   "source": [
    "C = community - 1\n",
    "[W,C] = reindex_W_with_classes(W,C)\n"
   ]
  },
  {
   "cell_type": "markdown",
   "metadata": {},
   "source": [
    "### Question 4 : Plot the adjacency matrix W re-indexed with the ground truth communities.\n",
    "\n",
    "Does it reveal any interesting structure?\n"
   ]
  },
  {
   "cell_type": "code",
   "execution_count": null,
   "metadata": {},
   "outputs": [
    {
     "data": {
      "image/png": "[encoded data removed]",
      "text/plain": [
       "<Figure size 640x480 with 1 Axes>"
      ]
     },
     "metadata": {},
     "output_type": "display_data"
    }
   ],
   "source": [
    "# Plot same W but according to communities\n",
    "plt.figure(2)\n",
    "plt.spy(W,precision=0.01, markersize=1) # IMPORTANT function\n",
    "# YOUR CODE HERE \n",
    "plt.show()\n"
   ]
  },
  {
   "cell_type": "markdown",
   "metadata": {},
   "source": [
    "### Comment : The rest of the notebook if for visualizing the graph in 2D and 3D spaces\n",
    "\n",
    "We will study graph visualization later.\n"
   ]
  },
  {
   "cell_type": "code",
   "execution_count": null,
   "metadata": {},
   "outputs": [],
   "source": [
    "######################################\n",
    "# Graph Laplacian Operator\n",
    "######################################\n",
    "\n",
    "######################################\n",
    "# Usages: \n",
    "#   L = compute_graph_laplacian(W); # compute normalized graph Laplacian\n",
    "#   L = compute_graph_laplacian(W,False); # compute UNnormalized graph Laplacian\n",
    "#\n",
    "# Notations:\n",
    "#   n = nb_data\n",
    "#\n",
    "# Input variables:\n",
    "#   W = Adjacency matrix. Size = n x n.\n",
    "#\n",
    "# Output variables:\n",
    "#   L = Graph Laplacian. Size = n x n.\n",
    "######################################\n",
    "\n",
    "def graph_laplacian(W, normalized=True): # second order derivative of a function\n",
    "    \n",
    "    # Degree vector\n",
    "    d = W.sum(axis=0)\n",
    "\n",
    "    # Laplacian matrix\n",
    "    if not normalized:\n",
    "        D = scipy.sparse.diags(d.A.squeeze(), 0)\n",
    "        L = D - W\n",
    "    else:\n",
    "        d += np.spacing(np.array(0, W.dtype)) # d += epsilon\n",
    "        d = 1.0 / np.sqrt(d)\n",
    "        D = scipy.sparse.diags(d.A.squeeze(), 0)\n",
    "        I = scipy.sparse.identity(d.size, dtype=W.dtype)\n",
    "        L = I - D * W * D\n",
    "    return L\n",
    "    "
   ]
  },
  {
   "cell_type": "code",
   "execution_count": null,
   "metadata": {},
   "outputs": [],
   "source": [
    "######################################\n",
    "# Visualization technique:\n",
    "#   Belkin-Niyogi, Laplacian eigenmaps for dimensionality reduction and data representation, 2003\n",
    "######################################\n",
    "\n",
    "######################################\n",
    "# Usage: \n",
    "#   [X,Y,Z] = compute_non_linear_dim_reduction(W)\n",
    "#\n",
    "# Notations:\n",
    "#   n = nb_data\n",
    "#\n",
    "# Input variables:\n",
    "#   W = Adjacency matrix. Size = n x n.\n",
    "#\n",
    "# Output variables:\n",
    "#   X = 1st data coordinates in low-dim manifold. Size n x 1.\n",
    "#   Y = 2nd data coordinates in low-dim manifold. Size n x 1.\n",
    "#   Z = 3rd data coordinates in low-dim manifold. Size n x 1.\n",
    "######################################\n",
    "\n",
    "def sort(lamb, U):\n",
    "    idx = lamb.argsort()\n",
    "    return lamb[idx], U[:,idx]\n",
    "\n",
    "def compute_non_linear_dim_reduction(W):\n",
    "    \n",
    "    # Compute normalized graph Laplacian\n",
    "    L = graph_laplacian(W)\n",
    "    \n",
    "    # Regularization for ill-posed graphs\n",
    "    L = L + 1e-6* scipy.sparse.identity(L.shape[0], dtype=W.dtype)\n",
    "\n",
    "    # Compute the first three Laplacian Eigenmaps\n",
    "    lamb, U = scipy.sparse.linalg.eigsh(L, k=4, which='SM')\n",
    "    \n",
    "    # Sort eigenvalue from smallest to largest values\n",
    "    lamb, U = sort(lamb, U)\n",
    "    \n",
    "    # Coordinates of graph vertices in the low-dim embedding manifold (first three eigenmaps)\n",
    "    X = U[:,1]\n",
    "    Y = U[:,2]\n",
    "    Z = U[:,3]\n",
    "\n",
    "    return X,Y,Z\n",
    "\n",
    "[X,Y,Z] = compute_non_linear_dim_reduction(W)\n",
    "#print(X.shape)\n"
   ]
  },
  {
   "cell_type": "code",
   "execution_count": 21,
   "metadata": {},
   "outputs": [
    {
     "data": {
      "image/png": "[encoded data removed]",
      "text/plain": [
       "<Figure size 640x480 with 1 Axes>"
      ]
     },
     "metadata": {},
     "output_type": "display_data"
    }
   ],
   "source": [
    "# Visualize the social network in 2D\n",
    "plt.figure(3)\n",
    "plt.scatter(X, Y, c=C, s=3, color=pyplot.jet())\n",
    "plt.show()\n"
   ]
  },
  {
   "cell_type": "code",
   "execution_count": 22,
   "metadata": {},
   "outputs": [
    {
     "data": {
      "application/vnd.plotly.v1+json": {
       "config": {
        "plotlyServerURL": "https://plot.ly"
       },
       "data": [
        {
         "marker": {
          "color": {
           "bdata": "AAAAAAAAAAAAAAAAAAAAAAAAAAAAAAAAAAAAAAAAAAAAAAAAAAAAAAAAAAAAAAAAAAAAAAAAAAAAAAAAAAAAAAAAAAAAAAAAAAAAAAAAAAAAAAAAAAAAAAAAAAAAAAAAAAAAAAAAAAAAAAAAAAAAAAAAAAAAAAAAAAAAAAAAAAAAAAAAAADwPwAAAAAAAPA/AAAAAAAA8D8AAAAAAADwPwAAAAAAAPA/AAAAAAAA8D8AAAAAAADwPwAAAAAAAPA/AAAAAAAA8D8AAAAAAADwPwAAAAAAAPA/AAAAAAAA8D8AAAAAAADwPwAAAAAAAPA/AAAAAAAA8D8AAAAAAAAAQAAAAAAAAABAAAAAAAAAAEAAAAAAAAAAQAAAAAAAAABAAAAAAAAAAEAAAAAAAAAAQAAAAAAAAABAAAAAAAAAAEAAAAAAAAAAQAAAAAAAAABAAAAAAAAAAEAAAAAAAAAAQAAAAAAAAABAAAAAAAAAAEAAAAAAAAAAQAAAAAAAAABAAAAAAAAAAEAAAAAAAAAAQAAAAAAAAABAAAAAAAAACEAAAAAAAAAIQAAAAAAAAAhAAAAAAAAACEAAAAAAAAAIQAAAAAAAAAhAAAAAAAAACEAAAAAAAAAIQAAAAAAAAAhAAAAAAAAACEAAAAAAAAAIQAAAAAAAAAhAAAAAAAAACEAAAAAAAAAIQAAAAAAAAAhAAAAAAAAACEAAAAAAAAAIQAAAAAAAAAhAAAAAAAAACEAAAAAAAAAQQAAAAAAAABBAAAAAAAAAEEAAAAAAAAAQQAAAAAAAABBAAAAAAAAAEEAAAAAAAAAQQAAAAAAAABBAAAAAAAAAEEAAAAAAAAAQQAAAAAAAABBAAAAAAAAAFEAAAAAAAAAUQAAAAAAAABRAAAAAAAAAFEAAAAAAAAAUQAAAAAAAABRAAAAAAAAAFEAAAAAAAAAUQAAAAAAAABRAAAAAAAAAFEAAAAAAAAAUQAAAAAAAABRAAAAAAAAAFEAAAAAAAAAUQAAAAAAAABRAAAAAAAAAFEAAAAAAAAAUQAAAAAAAABRAAAAAAAAAFEA=",
           "dtype": "f8"
          },
          "colorscale": [
           [
            0,
            "rgb(0,0,131)"
           ],
           [
            0.2,
            "rgb(0,60,170)"
           ],
           [
            0.4,
            "rgb(5,255,255)"
           ],
           [
            0.6,
            "rgb(255,255,0)"
           ],
           [
            0.8,
            "rgb(250,0,0)"
           ],
           [
            1,
            "rgb(128,0,0)"
           ]
          ],
          "opacity": 1,
          "size": 3
         },
         "mode": "markers",
         "type": "scatter3d",
         "x": {
          "bdata": "y2x4E7P4sj+KUn7CbhCuP+qpKb59Mbo/b9VKNLyAvz+nyWZHd2HBP8Co2xobPbY/Rg13ZlufuD+YpODMT5GeP0lW/qblMLE/Mb26erjZsT8BvJY4QHHAPwW7sKbbF7s/mifV7+ramT+VldWae5y1PyHpuiDBbJk/5hLxiztlwj87WJ07eyTAP0fDZxDFP7w/YSSVb+M5tD+Zo0hBuFChPyvAEJwy7qs/j1x22W/XqT/cSTB5fENqP1H+mbpcRb4/Kum+X2Xdpz82AoNAn0m1P/Co0/6xNLA/kkq8wQv5rz/RgeLWudvAP1563vy9Qbg/QXCaAzkHvj+CvDppos6pP0ss4Or0fbM/Iw+8sI1DoD/uYBv9k0epP5BJntITMKk/AtFJDDEuoT94EuIbkGTFP62IXV1lsbE/TJtzehSNtj/fTdIc+Sa4P2L7ndrpqLQ/mF4o03Ooij/Mxj7ctmigP04ec88h4bM/oX+FPM5srD8MRZWpeWCiP0AytZIwOJ8/fF/jO+xctD+1pK0xYbCwPw9D/gE9R7A/sQMIZ1HIo7/q7g97zUS2v7SgkWWYbZo/t25G3eg0pL8hG2NjTdGpv7OfBJCRJqK/QZou37J0ej/oZRK/YY9wP5GfdRY75p6/YakWGJCvuL/uqtxdwDe4v9+rkksY75y/EAvnChqMqr+BK7gG77+mv+VftiP+r3I/usEm78hPpb+NKi7t9z15PxbFBC3br6C/66b1y+Bikb+65c/JNjHPv8dx+1p8Jcu/eK1Das26y7+AnbWuPmjOv6946LI7Vsq/ephTAhLEzb9GykR+5O/Nv0y/l3YN1cy/NCa0a8/PzL9o4SqviSHPvymaZqh5Bs+/7EHoPmNRqb/1h0JsIGygv25TX7r5iKu/RX/KKBCFjr8nry+EkGtov11jkHmog6O/9Pk7OaBNpr9oUQoQZgSwv0+tcwZsj4O/YvChMSdcqr8nfKrU5Setv64CDOn4l0y/Rha4iJ0wrr9xxIPoA22Qv692hy5nfpe/zCCVhAAubj+LApQXRpy0vwcbOu9+iYE/x7jBtIqyoL8=",
          "dtype": "f8"
         },
         "y": {
          "bdata": "5w/pWPtKy795XQa3stzGv2coXKKc08W/3rr/fkJjwL/Y3SgQr9LDv+T7Om4DusO/TKmPrPG6vr9N75MuWku/v7L042jYxrm/E+XkYlH/vL9q7oq5um3DvwR5yWHvJsq/z8sZldFqxr8YF7T9ndfEvzXvCSHficO/DEpfNXE+wb/UsgkmDIi4P3YYcamjBr0/dj2n1Pl5sz8bkrft9oa4P1MhXeJnN70/LIIgA9fKwj+q3Zj3KofDPx16NFgmlLM/6TreQ74XrD+qyNtjGy61P/C/mAo1oLk/6IfTZ6pbtD8pBSx0LoywP2y8HG9G+bY/GC8tXm/wtD+I8E3mwiahv1UksgFSxbw/LFz8LTwMar8ywUGUXZexv2Jq+ZPuQbM/jg++nkajiL9iAd56Bah+v7LDctN2CY6/Sr/tqFuonb8QvGbrPtaOP6hFyI8bpLw/BmO00fgNlz8PuL0JffOtP3DczsVfBLe/XpHmPQRJlj8AUDMTkLNdP/Sfa6g3hoW/oFLOsSVcRr/sl3V5I3qXv/i9FOoh/2+/UHdFjbz/rb+2zJVeZU+hvyxWhItNOa+/xJFgivTxnL9NXAVRK46zP1JAlb4aPa6/8tt5UhLDm78Ad4ap5Le5v7ZsAPOrYaW/0uCfBbffur+iUqtN3+/Cv34EWu/iAru/xmwcZGO5fb8fyZ8+jye5v+ykApY4ZrK/aCltClpEUT/sKy3uQMt5P475pxHyc5c/qMN2me4Wsj8s0d3E2tdnv30LWaSOuLS/8p+WejcskL+WeEx7/Wavv9PDle1OlLS/rtPRyyCror86ubz10kCgv2pid7b+cpi/M9xU/9H2s7/pWFLp3+m5v2xwCOGcxLK/BBLEmy2awj+o1J0/Pp+9P2pNf+znpcE/c8EaLLp1uz+fXzFqXxy6P80k8wyAX7U/Ya7wPWcrwj8BVal1y/2xPxpUBF76rMQ/ow1aT5EhsT/gMTyVwL7BP8gvyokMyb8/O1aV+2Q3wj9EE/59T0G0P3ha1JZr7sA/zuQglUXOuz/2AH2450HAP44QFmuWkcM/nIwdOANpuz8=",
          "dtype": "f8"
         },
         "z": {
          "bdata": "MD0MEDznoT8rLiaMpiWuP2tDC4RyOoS/E8YJIaeSmj+YSK8OQhCeP15k8CBLd30/E6ipQ4Bhub9chMX3StSkP+T1bPV267Q/q/qjrfUotD/Ldfv0hvObv+Iu+jZK3Zo/Lt7lOtBNpr9bK3HHWZyEPxzuMlGogig/rzO7dLC/nb/e12dCiunFv3WB9C9ZHMK/NsANt8WVyb+20axv8zPGv/lZydZJGce/Wcx6YfeWx7+6HA2qe4fJvwTtpNo+iMW/Je43V/2Wy78+5vUicMbJv4s8oSy3hcm/FTGMLWABxb/eCVslocTHv0GtBHC4Q8W/B+Bvqu5Wxr/kZOqtzZOsP8N+KPytFZk/FXsOCT8itD9OzFKeKgCbP4F8ffSqC5o/enUih/SxqT/RAnQD7AuQv01LHz+wDKo/QKtiF1Apqr9nSe3uNTuzPx+PcnJT1Lw/nMCyvUCuvT+LayruOhRiP/ZX/pjGW5E/fPyfH1QQpT/cphCsVFmmP+HBE+Us2aY/v34yNN1CpT+NDaetq0W4P1ztMArWs7I/JctYb5fLvj/f1ZQBuyBvv9NwQEblSZE/XQIq9lVOor+lOOSO9fyrP7SoNGXhjqK/hOfJIFS/rz+/DzlcJbWXP5d3sKogRLA/6LSJ1IXTdz9+SJVqtEahP58RYb2TH4o/OKuynLBhnj94zNQ4VoygP2dQ4M78Nag/2H4cpZMDnD8+BGk4MAqxP8PanGc7Ibc/L0q/uSxZuT/kxoSDVSyvv+frOAOrHLu/x1LqsEtIxb9on69u2Jy1v1fZhcLNPLi/TQuh1wUmwr/s4NNEPdqkvy0LqP1zl7W/EnmKSl5Ntr8al6FCZhaqv8SSwnq0erq/lVcId7fCwj/WeKJU7PTCP8df4EyFbrg/31I67ZM+sj/X44Zj5Na5P0HyPKhUYcQ/lhOW3mHNqj9EdubK037CP3woabjEzcU/abEqz0Jxrj/ZG6vUFxOiPx3a4m0rt7k/64HwdkGYuz92rlJ9HBS3P0/zZACbraw/Sa8+NpxIvT/iiYV8aAK8PxiXEN6vY7w/nNueOWdfsj8=",
          "dtype": "f8"
         }
        }
       ],
       "layout": {
        "autosize": false,
        "height": 600,
        "margin": {
         "b": 0,
         "l": 0,
         "pad": 0,
         "r": 0,
         "t": 30
        },
        "scene": {
         "aspectratio": {
          "x": 1,
          "y": 1,
          "z": 1
         },
         "xaxis": {
          "showgrid": true,
          "showticklabels": false,
          "title": {
           "text": " "
          }
         },
         "yaxis": {
          "showgrid": true,
          "showticklabels": false,
          "title": {
           "text": " "
          }
         },
         "zaxis": {
          "showgrid": true,
          "showticklabels": false,
          "title": {
           "text": " "
          }
         }
        },
        "template": {
         "data": {
          "bar": [
           {
            "error_x": {
             "color": "#2a3f5f"
            },
            "error_y": {
             "color": "#2a3f5f"
            },
            "marker": {
             "line": {
              "color": "#E5ECF6",
              "width": 0.5
             },
             "pattern": {
              "fillmode": "overlay",
              "size": 10,
              "solidity": 0.2
             }
            },
            "type": "bar"
           }
          ],
          "barpolar": [
           {
            "marker": {
             "line": {
              "color": "#E5ECF6",
              "width": 0.5
             },
             "pattern": {
              "fillmode": "overlay",
              "size": 10,
              "solidity": 0.2
             }
            },
            "type": "barpolar"
           }
          ],
          "carpet": [
           {
            "aaxis": {
             "endlinecolor": "#2a3f5f",
             "gridcolor": "white",
             "linecolor": "white",
             "minorgridcolor": "white",
             "startlinecolor": "#2a3f5f"
            },
            "baxis": {
             "endlinecolor": "#2a3f5f",
             "gridcolor": "white",
             "linecolor": "white",
             "minorgridcolor": "white",
             "startlinecolor": "#2a3f5f"
            },
            "type": "carpet"
           }
          ],
          "choropleth": [
           {
            "colorbar": {
             "outlinewidth": 0,
             "ticks": ""
            },
            "type": "choropleth"
           }
          ],
          "contour": [
           {
            "colorbar": {
             "outlinewidth": 0,
             "ticks": ""
            },
            "colorscale": [
             [
              0,
              "#0d0887"
             ],
             [
              0.1111111111111111,
              "#46039f"
             ],
             [
              0.2222222222222222,
              "#7201a8"
             ],
             [
              0.3333333333333333,
              "#9c179e"
             ],
             [
              0.4444444444444444,
              "#bd3786"
             ],
             [
              0.5555555555555556,
              "#d8576b"
             ],
             [
              0.6666666666666666,
              "#ed7953"
             ],
             [
              0.7777777777777778,
              "#fb9f3a"
             ],
             [
              0.8888888888888888,
              "#fdca26"
             ],
             [
              1,
              "#f0f921"
             ]
            ],
            "type": "contour"
           }
          ],
          "contourcarpet": [
           {
            "colorbar": {
             "outlinewidth": 0,
             "ticks": ""
            },
            "type": "contourcarpet"
           }
          ],
          "heatmap": [
           {
            "colorbar": {
             "outlinewidth": 0,
             "ticks": ""
            },
            "colorscale": [
             [
              0,
              "#0d0887"
             ],
             [
              0.1111111111111111,
              "#46039f"
             ],
             [
              0.2222222222222222,
              "#7201a8"
             ],
             [
              0.3333333333333333,
              "#9c179e"
             ],
             [
              0.4444444444444444,
              "#bd3786"
             ],
             [
              0.5555555555555556,
              "#d8576b"
             ],
             [
              0.6666666666666666,
              "#ed7953"
             ],
             [
              0.7777777777777778,
              "#fb9f3a"
             ],
             [
              0.8888888888888888,
              "#fdca26"
             ],
             [
              1,
              "#f0f921"
             ]
            ],
            "type": "heatmap"
           }
          ],
          "histogram": [
           {
            "marker": {
             "pattern": {
              "fillmode": "overlay",
              "size": 10,
              "solidity": 0.2
             }
            },
            "type": "histogram"
           }
          ],
          "histogram2d": [
           {
            "colorbar": {
             "outlinewidth": 0,
             "ticks": ""
            },
            "colorscale": [
             [
              0,
              "#0d0887"
             ],
             [
              0.1111111111111111,
              "#46039f"
             ],
             [
              0.2222222222222222,
              "#7201a8"
             ],
             [
              0.3333333333333333,
              "#9c179e"
             ],
             [
              0.4444444444444444,
              "#bd3786"
             ],
             [
              0.5555555555555556,
              "#d8576b"
             ],
             [
              0.6666666666666666,
              "#ed7953"
             ],
             [
              0.7777777777777778,
              "#fb9f3a"
             ],
             [
              0.8888888888888888,
              "#fdca26"
             ],
             [
              1,
              "#f0f921"
             ]
            ],
            "type": "histogram2d"
           }
          ],
          "histogram2dcontour": [
           {
            "colorbar": {
             "outlinewidth": 0,
             "ticks": ""
            },
            "colorscale": [
             [
              0,
              "#0d0887"
             ],
             [
              0.1111111111111111,
              "#46039f"
             ],
             [
              0.2222222222222222,
              "#7201a8"
             ],
             [
              0.3333333333333333,
              "#9c179e"
             ],
             [
              0.4444444444444444,
              "#bd3786"
             ],
             [
              0.5555555555555556,
              "#d8576b"
             ],
             [
              0.6666666666666666,
              "#ed7953"
             ],
             [
              0.7777777777777778,
              "#fb9f3a"
             ],
             [
              0.8888888888888888,
              "#fdca26"
             ],
             [
              1,
              "#f0f921"
             ]
            ],
            "type": "histogram2dcontour"
           }
          ],
          "mesh3d": [
           {
            "colorbar": {
             "outlinewidth": 0,
             "ticks": ""
            },
            "type": "mesh3d"
           }
          ],
          "parcoords": [
           {
            "line": {
             "colorbar": {
              "outlinewidth": 0,
              "ticks": ""
             }
            },
            "type": "parcoords"
           }
          ],
          "pie": [
           {
            "automargin": true,
            "type": "pie"
           }
          ],
          "scatter": [
           {
            "fillpattern": {
             "fillmode": "overlay",
             "size": 10,
             "solidity": 0.2
            },
            "type": "scatter"
           }
          ],
          "scatter3d": [
           {
            "line": {
             "colorbar": {
              "outlinewidth": 0,
              "ticks": ""
             }
            },
            "marker": {
             "colorbar": {
              "outlinewidth": 0,
              "ticks": ""
             }
            },
            "type": "scatter3d"
           }
          ],
          "scattercarpet": [
           {
            "marker": {
             "colorbar": {
              "outlinewidth": 0,
              "ticks": ""
             }
            },
            "type": "scattercarpet"
           }
          ],
          "scattergeo": [
           {
            "marker": {
             "colorbar": {
              "outlinewidth": 0,
              "ticks": ""
             }
            },
            "type": "scattergeo"
           }
          ],
          "scattergl": [
           {
            "marker": {
             "colorbar": {
              "outlinewidth": 0,
              "ticks": ""
             }
            },
            "type": "scattergl"
           }
          ],
          "scattermap": [
           {
            "marker": {
             "colorbar": {
              "outlinewidth": 0,
              "ticks": ""
             }
            },
            "type": "scattermap"
           }
          ],
          "scattermapbox": [
           {
            "marker": {
             "colorbar": {
              "outlinewidth": 0,
              "ticks": ""
             }
            },
            "type": "scattermapbox"
           }
          ],
          "scatterpolar": [
           {
            "marker": {
             "colorbar": {
              "outlinewidth": 0,
              "ticks": ""
             }
            },
            "type": "scatterpolar"
           }
          ],
          "scatterpolargl": [
           {
            "marker": {
             "colorbar": {
              "outlinewidth": 0,
              "ticks": ""
             }
            },
            "type": "scatterpolargl"
           }
          ],
          "scatterternary": [
           {
            "marker": {
             "colorbar": {
              "outlinewidth": 0,
              "ticks": ""
             }
            },
            "type": "scatterternary"
           }
          ],
          "surface": [
           {
            "colorbar": {
             "outlinewidth": 0,
             "ticks": ""
            },
            "colorscale": [
             [
              0,
              "#0d0887"
             ],
             [
              0.1111111111111111,
              "#46039f"
             ],
             [
              0.2222222222222222,
              "#7201a8"
             ],
             [
              0.3333333333333333,
              "#9c179e"
             ],
             [
              0.4444444444444444,
              "#bd3786"
             ],
             [
              0.5555555555555556,
              "#d8576b"
             ],
             [
              0.6666666666666666,
              "#ed7953"
             ],
             [
              0.7777777777777778,
              "#fb9f3a"
             ],
             [
              0.8888888888888888,
              "#fdca26"
             ],
             [
              1,
              "#f0f921"
             ]
            ],
            "type": "surface"
           }
          ],
          "table": [
           {
            "cells": {
             "fill": {
              "color": "#EBF0F8"
             },
             "line": {
              "color": "white"
             }
            },
            "header": {
             "fill": {
              "color": "#C8D4E3"
             },
             "line": {
              "color": "white"
             }
            },
            "type": "table"
           }
          ]
         },
         "layout": {
          "annotationdefaults": {
           "arrowcolor": "#2a3f5f",
           "arrowhead": 0,
           "arrowwidth": 1
          },
          "autotypenumbers": "strict",
          "coloraxis": {
           "colorbar": {
            "outlinewidth": 0,
            "ticks": ""
           }
          },
          "colorscale": {
           "diverging": [
            [
             0,
             "#8e0152"
            ],
            [
             0.1,
             "#c51b7d"
            ],
            [
             0.2,
             "#de77ae"
            ],
            [
             0.3,
             "#f1b6da"
            ],
            [
             0.4,
             "#fde0ef"
            ],
            [
             0.5,
             "#f7f7f7"
            ],
            [
             0.6,
             "#e6f5d0"
            ],
            [
             0.7,
             "#b8e186"
            ],
            [
             0.8,
             "#7fbc41"
            ],
            [
             0.9,
             "#4d9221"
            ],
            [
             1,
             "#276419"
            ]
           ],
           "sequential": [
            [
             0,
             "#0d0887"
            ],
            [
             0.1111111111111111,
             "#46039f"
            ],
            [
             0.2222222222222222,
             "#7201a8"
            ],
            [
             0.3333333333333333,
             "#9c179e"
            ],
            [
             0.4444444444444444,
             "#bd3786"
            ],
            [
             0.5555555555555556,
             "#d8576b"
            ],
            [
             0.6666666666666666,
             "#ed7953"
            ],
            [
             0.7777777777777778,
             "#fb9f3a"
            ],
            [
             0.8888888888888888,
             "#fdca26"
            ],
            [
             1,
             "#f0f921"
            ]
           ],
           "sequentialminus": [
            [
             0,
             "#0d0887"
            ],
            [
             0.1111111111111111,
             "#46039f"
            ],
            [
             0.2222222222222222,
             "#7201a8"
            ],
            [
             0.3333333333333333,
             "#9c179e"
            ],
            [
             0.4444444444444444,
             "#bd3786"
            ],
            [
             0.5555555555555556,
             "#d8576b"
            ],
            [
             0.6666666666666666,
             "#ed7953"
            ],
            [
             0.7777777777777778,
             "#fb9f3a"
            ],
            [
             0.8888888888888888,
             "#fdca26"
            ],
            [
             1,
             "#f0f921"
            ]
           ]
          },
          "colorway": [
           "#636efa",
           "#EF553B",
           "#00cc96",
           "#ab63fa",
           "#FFA15A",
           "#19d3f3",
           "#FF6692",
           "#B6E880",
           "#FF97FF",
           "#FECB52"
          ],
          "font": {
           "color": "#2a3f5f"
          },
          "geo": {
           "bgcolor": "white",
           "lakecolor": "white",
           "landcolor": "#E5ECF6",
           "showlakes": true,
           "showland": true,
           "subunitcolor": "white"
          },
          "hoverlabel": {
           "align": "left"
          },
          "hovermode": "closest",
          "mapbox": {
           "style": "light"
          },
          "paper_bgcolor": "white",
          "plot_bgcolor": "#E5ECF6",
          "polar": {
           "angularaxis": {
            "gridcolor": "white",
            "linecolor": "white",
            "ticks": ""
           },
           "bgcolor": "#E5ECF6",
           "radialaxis": {
            "gridcolor": "white",
            "linecolor": "white",
            "ticks": ""
           }
          },
          "scene": {
           "xaxis": {
            "backgroundcolor": "#E5ECF6",
            "gridcolor": "white",
            "gridwidth": 2,
            "linecolor": "white",
            "showbackground": true,
            "ticks": "",
            "zerolinecolor": "white"
           },
           "yaxis": {
            "backgroundcolor": "#E5ECF6",
            "gridcolor": "white",
            "gridwidth": 2,
            "linecolor": "white",
            "showbackground": true,
            "ticks": "",
            "zerolinecolor": "white"
           },
           "zaxis": {
            "backgroundcolor": "#E5ECF6",
            "gridcolor": "white",
            "gridwidth": 2,
            "linecolor": "white",
            "showbackground": true,
            "ticks": "",
            "zerolinecolor": "white"
           }
          },
          "shapedefaults": {
           "line": {
            "color": "#2a3f5f"
           }
          },
          "ternary": {
           "aaxis": {
            "gridcolor": "white",
            "linecolor": "white",
            "ticks": ""
           },
           "baxis": {
            "gridcolor": "white",
            "linecolor": "white",
            "ticks": ""
           },
           "bgcolor": "#E5ECF6",
           "caxis": {
            "gridcolor": "white",
            "linecolor": "white",
            "ticks": ""
           }
          },
          "title": {
           "x": 0.05
          },
          "xaxis": {
           "automargin": true,
           "gridcolor": "white",
           "linecolor": "white",
           "ticks": "",
           "title": {
            "standoff": 15
           },
           "zerolinecolor": "white",
           "zerolinewidth": 2
          },
          "yaxis": {
           "automargin": true,
           "gridcolor": "white",
           "linecolor": "white",
           "ticks": "",
           "title": {
            "standoff": 15
           },
           "zerolinecolor": "white",
           "zerolinewidth": 2
          }
         }
        },
        "title": {
         "text": "3D visualization of LFR graph"
        },
        "width": 600
       }
      }
     },
     "metadata": {},
     "output_type": "display_data"
    }
   ],
   "source": [
    "# 3D Visualization\n",
    "import plotly.graph_objects as go\n",
    "data = go.Scatter3d(x=X, y=Y, z=Z, mode='markers', marker=dict(size=3, color=C, colorscale='jet', opacity=1)) # data as points\n",
    "# data = go.Scatter3d(x=Xvis, y=Yvis, z=Zvis, mode='markers', marker=dict(size=1, color=C, colorscale='jet', opacity=1, showscale=True)) # w/ colobar \n",
    "fig = go.Figure(data=[data]) \n",
    "fig.update_layout(margin=dict(l=0, r=0, b=0, t=30, pad=0)) # tight layout but t=25 required for showing title \n",
    "fig.update_layout(autosize=False, width=600, height=600, title_text=\"3D visualization of LFR graph\") # figure size and title\n",
    "# fig.update_layout(scene = dict(xaxis = dict(visible=False), yaxis = dict(visible=False), zaxis = dict(visible=False))) # no grid, no axis \n",
    "# fig.update_layout(scene = dict(xaxis_title = ' ', yaxis_title = ' ', zaxis_title = ' ')) # no axis name \n",
    "fig.update_layout(scene = dict(zaxis = dict(showgrid = True, showticklabels = False), zaxis_title = ' ') ) # no range values, no axis name, grid on\n",
    "fig.update_layout(scene = dict(yaxis = dict(showgrid = True, showticklabels = False), yaxis_title = ' ') ) # no range values, no axis name, grid on\n",
    "fig.update_layout(scene = dict(xaxis = dict(showgrid = True, showticklabels = False), xaxis_title = ' ') ) # no range values, no axis name, grid on\n",
    "fig.layout.scene.aspectratio = {'x':1, 'y':1, 'z':1}\n",
    "fig.show()\n"
   ]
  },
  {
   "cell_type": "code",
   "execution_count": null,
   "metadata": {},
   "outputs": [],
   "source": []
  }
 ],
 "metadata": {
  "kernelspec": {
   "display_name": ".cs5284",
   "language": "python",
   "name": "python3"
  },
  "language_info": {
   "codemirror_mode": {
    "name": "ipython",
    "version": 3
   },
   "file_extension": ".py",
   "mimetype": "text/x-python",
   "name": "python",
   "nbconvert_exporter": "python",
   "pygments_lexer": "ipython3",
   "version": "3.11.9"
  }
 },
 "nbformat": 4,
 "nbformat_minor": 4
}
